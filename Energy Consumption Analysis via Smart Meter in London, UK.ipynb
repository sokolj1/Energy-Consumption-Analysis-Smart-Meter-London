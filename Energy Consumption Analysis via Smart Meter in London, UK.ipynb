{
 "cells": [
  {
   "cell_type": "markdown",
   "metadata": {},
   "source": [
    "# Energy Consumption Analysis via 'Smart Meter' in London, UK\n",
    "\n",
    "#### John Sokol\n",
    "#### Introduction to Data Science and Analytics\n",
    "#### 14 December 2017\n",
    "\n",
    "## Asbtract: \n",
    "The objective of this study is to analyze energy consumption trends in London, United Kingdom (UK) to facilite government implementation of strategies that maximize energy efficiency in England, Scotland, and Wales. The UK government installed 'smart meters' in 5,567 London households of various socioeconomic levels to record energy consumption in units of kWh/hh (per half hour) from November 2011 to February 2014 as a trial period prior to large scale UK home installation by 2020. The socioeconomic household classifications consists of 3 broad groupings ('Affluent','Comfortable', and 'Adversity') households and 18 more specific categories defined by CACI's ACORN segmentation tool. For the purposes of this study and in order to query the datasets efficiently, only the 3 broad groupings and data from the year 2013 is taken into consideration.\n",
    " \n",
    "The three questions with respect to energy consumption, socioeconomic demographic, and date/time assessed with this trial smart meter data are the following: \n",
    "1. What are the differences in energy consumption between 'Affluent', 'Comfortable', and 'Adversity' groups in London?<br>\n",
    "2. Amongst all socioeconomic levels, at what time throughout the day is energy consumption the highest? <br>\n",
    "3. Out of the 8 official banking holidays in the UK, which holiday had the most energy consumption? <br>\n",
    "\n",
    "In order to clean and munge the provided gargantuan UK government datasets, the powerful Python library Pandas is used to import the CSV files, subset the data according to the question, and complete mathematical calculations to arrive at a quantitative finding. Another Python library, Matplotlib, is used for data visualization. \n",
    "\n",
    "Numerical data crunching of the first question found the socioeconomic household group denoted as 'Affluent' as the highest consumers of energy, then surprisingly followed by 'Adversity' households, then 'Comfortable' households. By comparing the quantitative results, 'Affluent' households collectively consumed 63.34% more energy than 'Comfortable' households. 'Comfortable' households consumed 0.76% more energy than 'Adversity' households, and 'Affluent' households consumed 62.10% more energy than their 'Adversity' household counterparts. The results indicate the 'Affluent' homeowner has substantial appliance energy consumption relative to the other two socioeconomic groups, yet 'Comfortable' and 'Adversity' households have similar energy consumption habits/trends, likely attributed to both groups prioritizing comfortable living such as mild indoor temperatures and lighting fixtures.  \n",
    "\n",
    "The second question involved energy consumption by time of day. Out of the 8 time points measured and regardless of socioeconomic level, households consumed the most energy at 6:00pm, and consumed the least energy at 3:00am. The percent increase comparing 3:00am energy consumption to 6:00pm energy consumption is approximately 160.34%. These results suggest a majority of people at 6:00pm are home from work and utilizing several appliances simultanously, while a majority of people are sleeping/inactive during the energy consumption lull time of 3:00am.\n",
    "\n",
    "The final question is in regards to energy consumption on the 8 official banking holidays in the United Kingdom. The holiday that consumed the most amount of energy was Good Friday on March 29th, 2013. The holiday that consumed the least amount of energy was the Summer Bank Holiday on August 26th, 2013. Comparing the Good Friday energy consumption value with the Summer Holiday value, this is a 36.48% decrease in energy consumption. This may be attributed to significant energy costs for heating households on the colder holidays, but little to no appliance usage for mild UK temperature for summer holidays. \n",
    "\n",
    "Although there are several shortcomings to overcome in future study, it is my hope that this preliminary study provides insight into the energy consumption habits of the United Kingdom. In doing so, effectively energy saving strategies can be implemented by the UK government to maximize energy consumption and make the United Kingdom a leader in energy effiency on a global scale.\n",
    "\n",
    "## Introduction: \n",
    "The energy that powers our homes and communities is arguably the world's most precious commodity besides time and water. In regards to the energy consumption of any household, several viable sources are often utilized. Popular non-renewable sources of energy include coal, natural gas, and nuclear energy. Renewable  energy sources that are experiencing increased adoption are hydropower, wind, and geothermal [[1](https://energy.gov/eere/analysis/downloads/status-and-trends-us-voluntary-green-power-market)]. As the world becomes increasingly conscious of the significance and responsibility of energy efficiency and conservation, world governments have great interest in collecting energy consumption data to determine efficiency and conservation strategies. \n",
    "\n",
    "The United Kingdom's long term strategy for maximizing energy is to introduce 'smart meters', devices that can measure individual home energy consumption, to each home in England, Wales, and Scotland by the year 2020. This strategy is being implemented gradually as the years progress. However, before this, the city of London served as the 'guinea pigs' of this smart meter implementation in a pilot project from November 2011 to February 2014, as the UK government installed smart meters in 5,567 households in London to measure energy consumption in units of KWH/hh (per half hour) [[2](https://acorn.caci.co.uk/)]. \n",
    "\n",
    "Furthermore, the UK government hired CACI, a marketing and data analytics company to implement their ACORN segmentation tool to catgorize the 5,567 households into detailed socioeconomic demographic types. This information is of particular interest to this study, as knowing the energy consumption habits of different households according to their socioeconomic stratification can help the UK govnerment maximize energy efficiency. For the needs of this study, the three major ACORN socioeconomic groups are the following: '__Affluent__', '__Comfortable__', and '__Adversity__'. The 'Affluent' household owner lives lavish lifestyles and are families with mature money that span generations (Category A - E). The 'Comfortable' household owner can be plainly described as the middle class. More specific classification of 'Comfortable' is countryside communities, moderately sized suburb homes, comfortable seniors, and new families that have post secondary degrees (Category F - J). The household experiencing 'Adversity' is described as financially stretched, such as post-secondary students yet to graduate, young people without post-secondary degrees, and single families struggling to make ends meet (Category  O - Q). For more information about these categories, please reference the [ACORN user guide](https://acorn.caci.co.uk/downloads/Acorn-User-guide.pdf).\n",
    "\n",
    "The three questions regarding energy consumption, socioeconomic demographic, and date/time to be investigated in this study are the following:\n",
    "1. What are the differences in energy consumption between 'Affluent', 'Comfortable', and 'Adversity' groups in London?<br>\n",
    "2. Amongst all socioeconomic levels, at what time throughout the day is energy consumption the highest? <br>\n",
    "3. Out of the 8 official banking holidays in the UK, which holiday had the most energy consumption? <br>\n",
    "These questions will be answered in context of the year 2013. \n",
    "\n",
    "The intended audience is the UK government. Providing transparancy to the story of these numbers using data analysis and visualization techniques will exemplify the power of leveraging data and hopefully the UK government will use these techniques to determine strageties to maximize energy consumption. These three questions will be answered using data cleaning, analysis, and visualization practices implemented using the Python PANDAS library and MATPLOTLIB to arrive at appropriate conclusions. \n",
    "## Methodology: \n",
    "The first step of the study is to import the Pandas library, then use Pandas to import the CSV files containing the LCLid, Date and Time of energy recording (every half hour), and energy recording (KWH/hh) (per half hour) into a DataFrame."
   ]
  },
  {
   "cell_type": "code",
   "execution_count": 1,
   "metadata": {},
   "outputs": [
    {
     "name": "stdout",
     "output_type": "stream",
     "text": [
      "/Users/johnsokol/Desktop\n"
     ]
    }
   ],
   "source": [
    "cd ~/Desktop"
   ]
  },
  {
   "cell_type": "code",
   "execution_count": 2,
   "metadata": {},
   "outputs": [
    {
     "data": {
      "text/html": [
       "<style> \n",
       "  table {margin-left: 0 !important;}\n",
       "</style>"
      ],
      "text/plain": [
       "<IPython.core.display.HTML object>"
      ]
     },
     "metadata": {},
     "output_type": "display_data"
    }
   ],
   "source": [
    "%%html\n",
    "<style> \n",
    "  table {margin-left: 0 !important;}\n",
    "</style>"
   ]
  },
  {
   "cell_type": "code",
   "execution_count": 2,
   "metadata": {
    "collapsed": true
   },
   "outputs": [],
   "source": [
    "import pandas as pd"
   ]
  },
  {
   "cell_type": "code",
   "execution_count": 8,
   "metadata": {},
   "outputs": [
    {
     "name": "stderr",
     "output_type": "stream",
     "text": [
      "/anaconda/lib/python3.6/site-packages/IPython/core/interactiveshell.py:2717: DtypeWarning: Columns (2) have mixed types. Specify dtype option on import or set low_memory=False.\n",
      "  interactivity=interactivity, compiler=compiler, result=result)\n"
     ]
    }
   ],
   "source": [
    "block_0 = pd.read_csv(\"Block_0.csv\")\n",
    "block_1 = pd.read_csv(\"block_1.csv\")\n",
    "block_2 = pd.read_csv(\"block_2.csv\")\n",
    "block_3 = pd.read_csv(\"block_3.csv\")\n",
    "block_4 = pd.read_csv(\"block_4.csv\")\n",
    "block_5 = pd.read_csv(\"block_5.csv\")\n",
    "block_6 = pd.read_csv(\"block_6.csv\")\n",
    "block_7 = pd.read_csv(\"block_7.csv\")\n",
    "block_8 = pd.read_csv(\"block_8.csv\")\n",
    "block_9 = pd.read_csv(\"block_9.csv\")\n",
    "block_10 = pd.read_csv(\"block_10.csv\")\n",
    "block_11 = pd.read_csv(\"block_11.csv\")\n",
    "block_12 = pd.read_csv(\"block_12.csv\")\n",
    "block_13 = pd.read_csv(\"block_13.csv\")\n",
    "block_14 = pd.read_csv(\"block_14.csv\")"
   ]
  },
  {
   "cell_type": "code",
   "execution_count": 9,
   "metadata": {},
   "outputs": [
    {
     "data": {
      "text/html": [
       "<div>\n",
       "<style>\n",
       "    .dataframe thead tr:only-child th {\n",
       "        text-align: right;\n",
       "    }\n",
       "\n",
       "    .dataframe thead th {\n",
       "        text-align: left;\n",
       "    }\n",
       "\n",
       "    .dataframe tbody tr th {\n",
       "        vertical-align: top;\n",
       "    }\n",
       "</style>\n",
       "<table border=\"1\" class=\"dataframe\">\n",
       "  <thead>\n",
       "    <tr style=\"text-align: right;\">\n",
       "      <th></th>\n",
       "      <th>LCLid</th>\n",
       "      <th>DateTime</th>\n",
       "      <th>KWH/hh (per half hour)</th>\n",
       "    </tr>\n",
       "  </thead>\n",
       "  <tbody>\n",
       "    <tr>\n",
       "      <th>0</th>\n",
       "      <td>MAC000002</td>\n",
       "      <td>2012-10-12 00:30:00.0000000</td>\n",
       "      <td>0</td>\n",
       "    </tr>\n",
       "    <tr>\n",
       "      <th>1</th>\n",
       "      <td>MAC000002</td>\n",
       "      <td>2012-10-12 01:00:00.0000000</td>\n",
       "      <td>0</td>\n",
       "    </tr>\n",
       "    <tr>\n",
       "      <th>2</th>\n",
       "      <td>MAC000002</td>\n",
       "      <td>2012-10-12 01:30:00.0000000</td>\n",
       "      <td>0</td>\n",
       "    </tr>\n",
       "    <tr>\n",
       "      <th>3</th>\n",
       "      <td>MAC000002</td>\n",
       "      <td>2012-10-12 02:00:00.0000000</td>\n",
       "      <td>0</td>\n",
       "    </tr>\n",
       "    <tr>\n",
       "      <th>4</th>\n",
       "      <td>MAC000002</td>\n",
       "      <td>2012-10-12 02:30:00.0000000</td>\n",
       "      <td>0</td>\n",
       "    </tr>\n",
       "  </tbody>\n",
       "</table>\n",
       "</div>"
      ],
      "text/plain": [
       "       LCLid                     DateTime KWH/hh (per half hour) \n",
       "0  MAC000002  2012-10-12 00:30:00.0000000                      0 \n",
       "1  MAC000002  2012-10-12 01:00:00.0000000                      0 \n",
       "2  MAC000002  2012-10-12 01:30:00.0000000                      0 \n",
       "3  MAC000002  2012-10-12 02:00:00.0000000                      0 \n",
       "4  MAC000002  2012-10-12 02:30:00.0000000                      0 "
      ]
     },
     "execution_count": 9,
     "metadata": {},
     "output_type": "execute_result"
    }
   ],
   "source": [
    "block_0.head()"
   ]
  },
  {
   "cell_type": "markdown",
   "metadata": {},
   "source": [
    "This information provides the necessary KWH/hh energy readings and the associated timestamps. However, these block CSV files do not provide socioeconomic information that corresponds to each household, which is stored in a separate CSV file called 'informations_household_update.csv.' This file contains the LCLid of each household, which is also present in each block CSV file. In addition, 'informations_household_update.csv' also contains stdorToU values, Acorn category (Acorn A - Acorn Q), Acorn Group ('Affluent','Comfortable','Adversity'), and the block CSV file that the particular LCLid is stored in. 'informations_household_update.csv' stores  the socioeconomic information for _all_ 15 block CSV files."
   ]
  },
  {
   "cell_type": "code",
   "execution_count": 10,
   "metadata": {},
   "outputs": [
    {
     "data": {
      "text/html": [
       "<div>\n",
       "<style>\n",
       "    .dataframe thead tr:only-child th {\n",
       "        text-align: right;\n",
       "    }\n",
       "\n",
       "    .dataframe thead th {\n",
       "        text-align: left;\n",
       "    }\n",
       "\n",
       "    .dataframe tbody tr th {\n",
       "        vertical-align: top;\n",
       "    }\n",
       "</style>\n",
       "<table border=\"1\" class=\"dataframe\">\n",
       "  <thead>\n",
       "    <tr style=\"text-align: right;\">\n",
       "      <th></th>\n",
       "      <th>LCLid</th>\n",
       "      <th>stdorToU</th>\n",
       "      <th>Acorn</th>\n",
       "      <th>Acorn_grouped</th>\n",
       "      <th>file</th>\n",
       "    </tr>\n",
       "  </thead>\n",
       "  <tbody>\n",
       "    <tr>\n",
       "      <th>0</th>\n",
       "      <td>MAC000002</td>\n",
       "      <td>Std</td>\n",
       "      <td>ACORN-A</td>\n",
       "      <td>Affluent</td>\n",
       "      <td>block_0</td>\n",
       "    </tr>\n",
       "    <tr>\n",
       "      <th>1</th>\n",
       "      <td>MAC000003</td>\n",
       "      <td>Std</td>\n",
       "      <td>ACORN-P</td>\n",
       "      <td>Adversity</td>\n",
       "      <td>block_0</td>\n",
       "    </tr>\n",
       "    <tr>\n",
       "      <th>2</th>\n",
       "      <td>MAC000004</td>\n",
       "      <td>Std</td>\n",
       "      <td>ACORN-E</td>\n",
       "      <td>Affluent</td>\n",
       "      <td>block_0</td>\n",
       "    </tr>\n",
       "    <tr>\n",
       "      <th>3</th>\n",
       "      <td>MAC000006</td>\n",
       "      <td>Std</td>\n",
       "      <td>ACORN-Q</td>\n",
       "      <td>Adversity</td>\n",
       "      <td>block_0</td>\n",
       "    </tr>\n",
       "    <tr>\n",
       "      <th>4</th>\n",
       "      <td>MAC000007</td>\n",
       "      <td>Std</td>\n",
       "      <td>ACORN-H</td>\n",
       "      <td>Comfortable</td>\n",
       "      <td>block_0</td>\n",
       "    </tr>\n",
       "  </tbody>\n",
       "</table>\n",
       "</div>"
      ],
      "text/plain": [
       "       LCLid stdorToU    Acorn Acorn_grouped     file\n",
       "0  MAC000002      Std  ACORN-A      Affluent  block_0\n",
       "1  MAC000003      Std  ACORN-P     Adversity  block_0\n",
       "2  MAC000004      Std  ACORN-E      Affluent  block_0\n",
       "3  MAC000006      Std  ACORN-Q     Adversity  block_0\n",
       "4  MAC000007      Std  ACORN-H   Comfortable  block_0"
      ]
     },
     "execution_count": 10,
     "metadata": {},
     "output_type": "execute_result"
    }
   ],
   "source": [
    "informations_household_update = pd.read_csv(\"informations_household_update.csv\")\n",
    "informations_household_update.head()"
   ]
  },
  {
   "cell_type": "code",
   "execution_count": 11,
   "metadata": {},
   "outputs": [
    {
     "data": {
      "text/html": [
       "<div>\n",
       "<style>\n",
       "    .dataframe thead tr:only-child th {\n",
       "        text-align: right;\n",
       "    }\n",
       "\n",
       "    .dataframe thead th {\n",
       "        text-align: left;\n",
       "    }\n",
       "\n",
       "    .dataframe tbody tr th {\n",
       "        vertical-align: top;\n",
       "    }\n",
       "</style>\n",
       "<table border=\"1\" class=\"dataframe\">\n",
       "  <thead>\n",
       "    <tr style=\"text-align: right;\">\n",
       "      <th></th>\n",
       "      <th>LCLid</th>\n",
       "      <th>stdorToU</th>\n",
       "      <th>Acorn</th>\n",
       "      <th>Acorn_grouped</th>\n",
       "      <th>file</th>\n",
       "    </tr>\n",
       "  </thead>\n",
       "  <tbody>\n",
       "    <tr>\n",
       "      <th>5561</th>\n",
       "      <td>MAC005550</td>\n",
       "      <td>ToU</td>\n",
       "      <td>ACORN-C</td>\n",
       "      <td>Affluent</td>\n",
       "      <td>block_14</td>\n",
       "    </tr>\n",
       "    <tr>\n",
       "      <th>5562</th>\n",
       "      <td>MAC005551</td>\n",
       "      <td>ToU</td>\n",
       "      <td>ACORN-F</td>\n",
       "      <td>Comfortable</td>\n",
       "      <td>block_14</td>\n",
       "    </tr>\n",
       "    <tr>\n",
       "      <th>5563</th>\n",
       "      <td>MAC005557</td>\n",
       "      <td>ToU</td>\n",
       "      <td>ACORN-Q</td>\n",
       "      <td>Adversity</td>\n",
       "      <td>block_14</td>\n",
       "    </tr>\n",
       "    <tr>\n",
       "      <th>5564</th>\n",
       "      <td>MAC005564</td>\n",
       "      <td>ToU</td>\n",
       "      <td>ACORN-Q</td>\n",
       "      <td>Adversity</td>\n",
       "      <td>block_14</td>\n",
       "    </tr>\n",
       "    <tr>\n",
       "      <th>5565</th>\n",
       "      <td>MAC005565</td>\n",
       "      <td>ToU</td>\n",
       "      <td>ACORN-C</td>\n",
       "      <td>Affluent</td>\n",
       "      <td>block_14</td>\n",
       "    </tr>\n",
       "  </tbody>\n",
       "</table>\n",
       "</div>"
      ],
      "text/plain": [
       "          LCLid stdorToU    Acorn Acorn_grouped      file\n",
       "5561  MAC005550      ToU  ACORN-C      Affluent  block_14\n",
       "5562  MAC005551      ToU  ACORN-F   Comfortable  block_14\n",
       "5563  MAC005557      ToU  ACORN-Q     Adversity  block_14\n",
       "5564  MAC005564      ToU  ACORN-Q     Adversity  block_14\n",
       "5565  MAC005565      ToU  ACORN-C      Affluent  block_14"
      ]
     },
     "execution_count": 11,
     "metadata": {},
     "output_type": "execute_result"
    }
   ],
   "source": [
    "informations_household_update.tail()"
   ]
  },
  {
   "cell_type": "markdown",
   "metadata": {},
   "source": [
    "These CSV files organized by block need to be merged together to munge meaningful energy consumption data according to socioeconomic household. To accomplish this task, the subset of 'informations_household_update.csv' is subgrouped by block file using the following linux command:  "
   ]
  },
  {
   "cell_type": "code",
   "execution_count": 13,
   "metadata": {
    "collapsed": true
   },
   "outputs": [],
   "source": [
    "# awk 'NR==1 || /block_0/' informations_household_update.csv > \n",
    "# household_info_block_0.csv\n",
    "# awk 'NR==1 || /block_1/' informations_household_update.csv > \n",
    "# household_info_block_1.csv \n",
    "# awk 'NR==1 || /block_2/' informations_household_update.csv > \n",
    "# household_info_block_2.csv ..."
   ]
  },
  {
   "cell_type": "markdown",
   "metadata": {},
   "source": [
    "These new CSV files are subsequently imported: "
   ]
  },
  {
   "cell_type": "code",
   "execution_count": 12,
   "metadata": {
    "collapsed": true
   },
   "outputs": [],
   "source": [
    "household_info_block_0 = pd.read_csv(\"household_info_block_0_final.csv\")\n",
    "household_info_block_1 = pd.read_csv(\"household_info_block_1_final.csv\")\n",
    "household_info_block_2 = pd.read_csv(\"household_info_block_2.csv\")\n",
    "household_info_block_3 = pd.read_csv(\"household_info_block_3.csv\")\n",
    "household_info_block_4 = pd.read_csv(\"household_info_block_4.csv\")\n",
    "household_info_block_5 = pd.read_csv(\"household_info_block_5.csv\")\n",
    "household_info_block_6 = pd.read_csv(\"household_info_block_6.csv\")\n",
    "household_info_block_7 = pd.read_csv(\"household_info_block_7.csv\")\n",
    "household_info_block_8 = pd.read_csv(\"household_info_block_8.csv\")\n",
    "household_info_block_9 = pd.read_csv(\"household_info_block_9.csv\")\n",
    "household_info_block_10 = pd.read_csv(\"household_info_block_10.csv\")\n",
    "household_info_block_11 = pd.read_csv(\"household_info_block_11.csv\")\n",
    "household_info_block_12 = pd.read_csv(\"household_info_block_12.csv\")\n",
    "household_info_block_13 = pd.read_csv(\"household_info_block_13.csv\")\n",
    "household_info_block_14 = pd.read_csv(\"household_info_block_14.csv\")"
   ]
  },
  {
   "cell_type": "markdown",
   "metadata": {},
   "source": [
    "Considering there is now a socioeconomic background CSV file for each individual block CSV file, these files can be merged together using the common LCLid column, then subgrouped by data recorded from the year 2013 using Pandas commands: "
   ]
  },
  {
   "cell_type": "code",
   "execution_count": 14,
   "metadata": {},
   "outputs": [
    {
     "data": {
      "text/html": [
       "<div>\n",
       "<style>\n",
       "    .dataframe thead tr:only-child th {\n",
       "        text-align: right;\n",
       "    }\n",
       "\n",
       "    .dataframe thead th {\n",
       "        text-align: left;\n",
       "    }\n",
       "\n",
       "    .dataframe tbody tr th {\n",
       "        vertical-align: top;\n",
       "    }\n",
       "</style>\n",
       "<table border=\"1\" class=\"dataframe\">\n",
       "  <thead>\n",
       "    <tr style=\"text-align: right;\">\n",
       "      <th></th>\n",
       "      <th>LCLid</th>\n",
       "      <th>DateTime</th>\n",
       "      <th>KWH/hh (per half hour)</th>\n",
       "      <th>stdorToU</th>\n",
       "      <th>Acorn</th>\n",
       "      <th>Acorn_grouped</th>\n",
       "      <th>file</th>\n",
       "    </tr>\n",
       "  </thead>\n",
       "  <tbody>\n",
       "    <tr>\n",
       "      <th>3837</th>\n",
       "      <td>MAC000002</td>\n",
       "      <td>2013-01-01 00:00:00.0000000</td>\n",
       "      <td>0.219</td>\n",
       "      <td>Std</td>\n",
       "      <td>ACORN-A</td>\n",
       "      <td>Affluent</td>\n",
       "      <td>block_0</td>\n",
       "    </tr>\n",
       "    <tr>\n",
       "      <th>3838</th>\n",
       "      <td>MAC000002</td>\n",
       "      <td>2013-01-01 00:30:00.0000000</td>\n",
       "      <td>0.241</td>\n",
       "      <td>Std</td>\n",
       "      <td>ACORN-A</td>\n",
       "      <td>Affluent</td>\n",
       "      <td>block_0</td>\n",
       "    </tr>\n",
       "    <tr>\n",
       "      <th>3839</th>\n",
       "      <td>MAC000002</td>\n",
       "      <td>2013-01-01 01:00:00.0000000</td>\n",
       "      <td>0.191</td>\n",
       "      <td>Std</td>\n",
       "      <td>ACORN-A</td>\n",
       "      <td>Affluent</td>\n",
       "      <td>block_0</td>\n",
       "    </tr>\n",
       "    <tr>\n",
       "      <th>3840</th>\n",
       "      <td>MAC000002</td>\n",
       "      <td>2013-01-01 01:30:00.0000000</td>\n",
       "      <td>0.235</td>\n",
       "      <td>Std</td>\n",
       "      <td>ACORN-A</td>\n",
       "      <td>Affluent</td>\n",
       "      <td>block_0</td>\n",
       "    </tr>\n",
       "    <tr>\n",
       "      <th>3841</th>\n",
       "      <td>MAC000002</td>\n",
       "      <td>2013-01-01 02:00:00.0000000</td>\n",
       "      <td>0.182</td>\n",
       "      <td>Std</td>\n",
       "      <td>ACORN-A</td>\n",
       "      <td>Affluent</td>\n",
       "      <td>block_0</td>\n",
       "    </tr>\n",
       "  </tbody>\n",
       "</table>\n",
       "</div>"
      ],
      "text/plain": [
       "          LCLid                     DateTime KWH/hh (per half hour)  stdorToU  \\\n",
       "3837  MAC000002  2013-01-01 00:00:00.0000000                  0.219       Std   \n",
       "3838  MAC000002  2013-01-01 00:30:00.0000000                  0.241       Std   \n",
       "3839  MAC000002  2013-01-01 01:00:00.0000000                  0.191       Std   \n",
       "3840  MAC000002  2013-01-01 01:30:00.0000000                  0.235       Std   \n",
       "3841  MAC000002  2013-01-01 02:00:00.0000000                  0.182       Std   \n",
       "\n",
       "        Acorn Acorn_grouped     file  \n",
       "3837  ACORN-A      Affluent  block_0  \n",
       "3838  ACORN-A      Affluent  block_0  \n",
       "3839  ACORN-A      Affluent  block_0  \n",
       "3840  ACORN-A      Affluent  block_0  \n",
       "3841  ACORN-A      Affluent  block_0  "
      ]
     },
     "execution_count": 14,
     "metadata": {},
     "output_type": "execute_result"
    }
   ],
   "source": [
    "# merge and subset block_0 to block_0_2013\n",
    "merge_block_0 = pd.merge(block_0,household_info_block_0, on = 'LCLid')\n",
    "temp_block_0 = merge_block_0.DateTime.str.contains('2013')\n",
    "block_0_2013 = merge_block_0[temp_block_0]\n",
    "block_0_2013.head()"
   ]
  },
  {
   "cell_type": "code",
   "execution_count": 15,
   "metadata": {
    "collapsed": true
   },
   "outputs": [],
   "source": [
    "# merge and subset (block_1 - block_14) to (block_1_2013 - block_14_2013)\n",
    "merge_block_1 = pd.merge(block_1,household_info_block_1, on = 'LCLid')\n",
    "temp_block_1 = merge_block_1.DateTime.str.contains('2013')\n",
    "block_1_2013 = merge_block_1[temp_block_1] # Final Block 1 2013 values\n",
    "\n",
    "merge_block_2 = pd.merge(block_2,household_info_block_2, on = 'LCLid')\n",
    "temp_block_2 = merge_block_2.DateTime.str.contains('2013')\n",
    "block_2_2013 = merge_block_2[temp_block_2] # Final Block 2 2013 values\n",
    "\n",
    "merge_block_3 = pd.merge(block_3,household_info_block_3, on = 'LCLid')\n",
    "temp_block_3 = merge_block_3.DateTime.str.contains('2013')\n",
    "block_3_2013 = merge_block_3[temp_block_3] # Final Block 3 2013 values\n",
    "\n",
    "merge_block_4 = pd.merge(block_4,household_info_block_4, on = 'LCLid')\n",
    "temp_block_4 = merge_block_4.DateTime.str.contains('2013')\n",
    "block_4_2013 = merge_block_4[temp_block_4] # Final Block 4 2013 values\n",
    "\n",
    "merge_block_5 = pd.merge(block_5,household_info_block_5, on = 'LCLid')\n",
    "temp_block_5 = merge_block_5.DateTime.str.contains('2013')\n",
    "block_5_2013 = merge_block_5[temp_block_5] # Final Block 5 2013 values\n",
    "\n",
    "merge_block_6 = pd.merge(block_6,household_info_block_6, on = 'LCLid')\n",
    "temp_block_6 = merge_block_6.DateTime.str.contains('2013')\n",
    "block_6_2013 = merge_block_6[temp_block_6] # Final Block 6 2013 values\n",
    "\n",
    "merge_block_7 = pd.merge(block_7,household_info_block_7, on = 'LCLid')\n",
    "temp_block_7 = merge_block_7.DateTime.str.contains('2013')\n",
    "block_7_2013 = merge_block_7[temp_block_7] # Final Block 7 2013 values\n",
    "\n",
    "merge_block_8 = pd.merge(block_8,household_info_block_8, on = 'LCLid')\n",
    "temp_block_8 = merge_block_8.DateTime.str.contains('2013')\n",
    "block_8_2013 = merge_block_8[temp_block_8] # Final Block 8 2013 values\n",
    "\n",
    "merge_block_9 = pd.merge(block_9,household_info_block_9, on = 'LCLid')\n",
    "temp_block_9 = merge_block_9.DateTime.str.contains('2013')\n",
    "block_9_2013 = merge_block_9[temp_block_9] # Final Block 9 2013 values\n",
    "\n",
    "merge_block_10 = pd.merge(block_10,household_info_block_10, on = 'LCLid')\n",
    "temp_block_10 = merge_block_10.DateTime.str.contains('2013')\n",
    "block_10_2013 = merge_block_10[temp_block_10] # Final Block 10 2013 values\n",
    "\n",
    "merge_block_11 = pd.merge(block_11,household_info_block_11, on = 'LCLid')\n",
    "temp_block_11 = merge_block_11.DateTime.str.contains('2013')\n",
    "block_11_2013 = merge_block_11[temp_block_11] # Final Block 11 2013 values\n",
    "\n",
    "merge_block_12 = pd.merge(block_12,household_info_block_12, on = 'LCLid')\n",
    "temp_block_12 = merge_block_12.DateTime.str.contains('2013')\n",
    "block_12_2013 = merge_block_12[temp_block_12] # Final Block 12 2013 values\n",
    "\n",
    "merge_block_13 = pd.merge(block_13,household_info_block_13, on = 'LCLid')\n",
    "temp_block_13 = merge_block_13.DateTime.str.contains('2013')\n",
    "block_13_2013 = merge_block_13[temp_block_13] # Final Block 13 2013 values\n",
    "\n",
    "merge_block_14 = pd.merge(block_14,household_info_block_14, on = 'LCLid')\n",
    "temp_block_14 = merge_block_14.DateTime.str.contains('2013')\n",
    "block_14_2013 = merge_block_14[temp_block_14] # Final Block 14 2013 values"
   ]
  },
  {
   "cell_type": "markdown",
   "metadata": {},
   "source": [
    "These blocks can now be concatenated into one large master block 2013 DataFrame:"
   ]
  },
  {
   "cell_type": "code",
   "execution_count": 16,
   "metadata": {
    "collapsed": true
   },
   "outputs": [],
   "source": [
    "master_block_2013 = pd.concat([block_0_2013,block_1_2013,block_2_2013,\n",
    "block_3_2013,block_4_2013,block_5_2013,block_6_2013,block_7_2013,\n",
    "block_8_2013,block_9_2013,block_10_2013,block_11_2013,block_12_2013,\n",
    "block_13_2013,block_14_2013])"
   ]
  },
  {
   "cell_type": "markdown",
   "metadata": {},
   "source": [
    "This master DataFrame will be used to munge data according to which question that is being analyzed. \n",
    "\n",
    "#### Energy Consumption by Socioeconomic Group\n",
    "\n",
    "The first question stated in the introduction is \"What are the differences in energy consumption between 'Affluent', 'Comfortable', and 'Adversity' groups in London?\" Let's subgroup the households defined by ACORN as 'Affluent'. "
   ]
  },
  {
   "cell_type": "code",
   "execution_count": 17,
   "metadata": {
    "collapsed": true
   },
   "outputs": [],
   "source": [
    "Affluent_2013 = master_block_2013[master_block_2013.Acorn_grouped == 'Affluent']"
   ]
  },
  {
   "cell_type": "markdown",
   "metadata": {},
   "source": [
    "And let's rename the energy column defined 'KWH/hh (per half hour) ' to 'KWH' for easy subgrouping purposes later on. "
   ]
  },
  {
   "cell_type": "code",
   "execution_count": 18,
   "metadata": {},
   "outputs": [
    {
     "data": {
      "text/html": [
       "<div>\n",
       "<style>\n",
       "    .dataframe thead tr:only-child th {\n",
       "        text-align: right;\n",
       "    }\n",
       "\n",
       "    .dataframe thead th {\n",
       "        text-align: left;\n",
       "    }\n",
       "\n",
       "    .dataframe tbody tr th {\n",
       "        vertical-align: top;\n",
       "    }\n",
       "</style>\n",
       "<table border=\"1\" class=\"dataframe\">\n",
       "  <thead>\n",
       "    <tr style=\"text-align: right;\">\n",
       "      <th></th>\n",
       "      <th>LCLid</th>\n",
       "      <th>DateTime</th>\n",
       "      <th>KWH</th>\n",
       "      <th>stdorToU</th>\n",
       "      <th>Acorn</th>\n",
       "      <th>Acorn_grouped</th>\n",
       "      <th>file</th>\n",
       "    </tr>\n",
       "  </thead>\n",
       "  <tbody>\n",
       "    <tr>\n",
       "      <th>3837</th>\n",
       "      <td>MAC000002</td>\n",
       "      <td>2013-01-01 00:00:00.0000000</td>\n",
       "      <td>0.219</td>\n",
       "      <td>Std</td>\n",
       "      <td>ACORN-A</td>\n",
       "      <td>Affluent</td>\n",
       "      <td>block_0</td>\n",
       "    </tr>\n",
       "    <tr>\n",
       "      <th>3838</th>\n",
       "      <td>MAC000002</td>\n",
       "      <td>2013-01-01 00:30:00.0000000</td>\n",
       "      <td>0.241</td>\n",
       "      <td>Std</td>\n",
       "      <td>ACORN-A</td>\n",
       "      <td>Affluent</td>\n",
       "      <td>block_0</td>\n",
       "    </tr>\n",
       "    <tr>\n",
       "      <th>3839</th>\n",
       "      <td>MAC000002</td>\n",
       "      <td>2013-01-01 01:00:00.0000000</td>\n",
       "      <td>0.191</td>\n",
       "      <td>Std</td>\n",
       "      <td>ACORN-A</td>\n",
       "      <td>Affluent</td>\n",
       "      <td>block_0</td>\n",
       "    </tr>\n",
       "    <tr>\n",
       "      <th>3840</th>\n",
       "      <td>MAC000002</td>\n",
       "      <td>2013-01-01 01:30:00.0000000</td>\n",
       "      <td>0.235</td>\n",
       "      <td>Std</td>\n",
       "      <td>ACORN-A</td>\n",
       "      <td>Affluent</td>\n",
       "      <td>block_0</td>\n",
       "    </tr>\n",
       "    <tr>\n",
       "      <th>3841</th>\n",
       "      <td>MAC000002</td>\n",
       "      <td>2013-01-01 02:00:00.0000000</td>\n",
       "      <td>0.182</td>\n",
       "      <td>Std</td>\n",
       "      <td>ACORN-A</td>\n",
       "      <td>Affluent</td>\n",
       "      <td>block_0</td>\n",
       "    </tr>\n",
       "  </tbody>\n",
       "</table>\n",
       "</div>"
      ],
      "text/plain": [
       "          LCLid                     DateTime      KWH stdorToU    Acorn  \\\n",
       "3837  MAC000002  2013-01-01 00:00:00.0000000   0.219       Std  ACORN-A   \n",
       "3838  MAC000002  2013-01-01 00:30:00.0000000   0.241       Std  ACORN-A   \n",
       "3839  MAC000002  2013-01-01 01:00:00.0000000   0.191       Std  ACORN-A   \n",
       "3840  MAC000002  2013-01-01 01:30:00.0000000   0.235       Std  ACORN-A   \n",
       "3841  MAC000002  2013-01-01 02:00:00.0000000   0.182       Std  ACORN-A   \n",
       "\n",
       "     Acorn_grouped     file  \n",
       "3837      Affluent  block_0  \n",
       "3838      Affluent  block_0  \n",
       "3839      Affluent  block_0  \n",
       "3840      Affluent  block_0  \n",
       "3841      Affluent  block_0  "
      ]
     },
     "execution_count": 18,
     "metadata": {},
     "output_type": "execute_result"
    }
   ],
   "source": [
    "Affluent_2013 = Affluent_2013.rename(columns={'KWH/hh (per half hour) ': 'KWH'})\n",
    "Affluent_2013.head()"
   ]
  },
  {
   "cell_type": "markdown",
   "metadata": {},
   "source": [
    "It looks like this 'Affluent' DataFrame is ready for the PANDAS .sum() function. However, to ensure the numbers are floats, the following command is employed: "
   ]
  },
  {
   "cell_type": "code",
   "execution_count": 19,
   "metadata": {},
   "outputs": [
    {
     "data": {
      "text/plain": [
       "3837     0.219 \n",
       "3838     0.241 \n",
       "3839     0.191 \n",
       "3840     0.235 \n",
       "3841     0.182 \n",
       "Name: KWH, dtype: object"
      ]
     },
     "execution_count": 19,
     "metadata": {},
     "output_type": "execute_result"
    }
   ],
   "source": [
    "kwh_hh = Affluent_2013['KWH']\n",
    "kwh_hh.head()"
   ]
  },
  {
   "cell_type": "markdown",
   "metadata": {},
   "source": [
    "The object kwh_hh holds non-numerical datatypes (not floats). So the KWH column in the DataFrame Affluent_2013 needs to be changed from type object to type float. Afterwards, the .sum() function can then be used to add all the energy values together. "
   ]
  },
  {
   "cell_type": "code",
   "execution_count": 20,
   "metadata": {},
   "outputs": [
    {
     "name": "stdout",
     "output_type": "stream",
     "text": [
      "8709586.250759808\n"
     ]
    }
   ],
   "source": [
    "Affluent_2013_kwh_hh = pd.to_numeric(Affluent_2013['KWH'], errors='coerce')\n",
    "Affluent_2013_sum = Affluent_2013_kwh_hh.sum()\n",
    "print(Affluent_2013_sum) "
   ]
  },
  {
   "cell_type": "markdown",
   "metadata": {},
   "source": [
    "So households grouped as 'Affluent' collectively used ~8,709,586.25 KWH/hh energy in 2013. These same techniques are applied for 'Comfortable' and 'Adversity' households. "
   ]
  },
  {
   "cell_type": "code",
   "execution_count": 21,
   "metadata": {},
   "outputs": [
    {
     "data": {
      "text/html": [
       "<div>\n",
       "<style>\n",
       "    .dataframe thead tr:only-child th {\n",
       "        text-align: right;\n",
       "    }\n",
       "\n",
       "    .dataframe thead th {\n",
       "        text-align: left;\n",
       "    }\n",
       "\n",
       "    .dataframe tbody tr th {\n",
       "        vertical-align: top;\n",
       "    }\n",
       "</style>\n",
       "<table border=\"1\" class=\"dataframe\">\n",
       "  <thead>\n",
       "    <tr style=\"text-align: right;\">\n",
       "      <th></th>\n",
       "      <th>LCLid</th>\n",
       "      <th>DateTime</th>\n",
       "      <th>KWH/hh (per half hour)</th>\n",
       "      <th>stdorToU</th>\n",
       "      <th>Acorn</th>\n",
       "      <th>Acorn_grouped</th>\n",
       "      <th>file</th>\n",
       "    </tr>\n",
       "  </thead>\n",
       "  <tbody>\n",
       "    <tr>\n",
       "      <th>132406</th>\n",
       "      <td>MAC000007</td>\n",
       "      <td>2013-01-01 00:00:00.0000000</td>\n",
       "      <td>0.247</td>\n",
       "      <td>Std</td>\n",
       "      <td>ACORN-H</td>\n",
       "      <td>Comfortable</td>\n",
       "      <td>block_0</td>\n",
       "    </tr>\n",
       "    <tr>\n",
       "      <th>132407</th>\n",
       "      <td>MAC000007</td>\n",
       "      <td>2013-01-01 00:30:00.0000000</td>\n",
       "      <td>0.204</td>\n",
       "      <td>Std</td>\n",
       "      <td>ACORN-H</td>\n",
       "      <td>Comfortable</td>\n",
       "      <td>block_0</td>\n",
       "    </tr>\n",
       "    <tr>\n",
       "      <th>132408</th>\n",
       "      <td>MAC000007</td>\n",
       "      <td>2013-01-01 01:00:00.0000000</td>\n",
       "      <td>0.161</td>\n",
       "      <td>Std</td>\n",
       "      <td>ACORN-H</td>\n",
       "      <td>Comfortable</td>\n",
       "      <td>block_0</td>\n",
       "    </tr>\n",
       "    <tr>\n",
       "      <th>132409</th>\n",
       "      <td>MAC000007</td>\n",
       "      <td>2013-01-01 01:30:00.0000000</td>\n",
       "      <td>0.214</td>\n",
       "      <td>Std</td>\n",
       "      <td>ACORN-H</td>\n",
       "      <td>Comfortable</td>\n",
       "      <td>block_0</td>\n",
       "    </tr>\n",
       "    <tr>\n",
       "      <th>132410</th>\n",
       "      <td>MAC000007</td>\n",
       "      <td>2013-01-01 02:00:00.0000000</td>\n",
       "      <td>0.186</td>\n",
       "      <td>Std</td>\n",
       "      <td>ACORN-H</td>\n",
       "      <td>Comfortable</td>\n",
       "      <td>block_0</td>\n",
       "    </tr>\n",
       "  </tbody>\n",
       "</table>\n",
       "</div>"
      ],
      "text/plain": [
       "            LCLid                     DateTime KWH/hh (per half hour)   \\\n",
       "132406  MAC000007  2013-01-01 00:00:00.0000000                  0.247    \n",
       "132407  MAC000007  2013-01-01 00:30:00.0000000                  0.204    \n",
       "132408  MAC000007  2013-01-01 01:00:00.0000000                  0.161    \n",
       "132409  MAC000007  2013-01-01 01:30:00.0000000                  0.214    \n",
       "132410  MAC000007  2013-01-01 02:00:00.0000000                  0.186    \n",
       "\n",
       "       stdorToU    Acorn Acorn_grouped     file  \n",
       "132406      Std  ACORN-H   Comfortable  block_0  \n",
       "132407      Std  ACORN-H   Comfortable  block_0  \n",
       "132408      Std  ACORN-H   Comfortable  block_0  \n",
       "132409      Std  ACORN-H   Comfortable  block_0  \n",
       "132410      Std  ACORN-H   Comfortable  block_0  "
      ]
     },
     "execution_count": 21,
     "metadata": {},
     "output_type": "execute_result"
    }
   ],
   "source": [
    "Comfortable_2013 = master_block_2013[master_block_2013.Acorn_grouped == 'Comfortable']\n",
    "Comfortable_2013.head()"
   ]
  },
  {
   "cell_type": "code",
   "execution_count": 23,
   "metadata": {},
   "outputs": [
    {
     "name": "stdout",
     "output_type": "stream",
     "text": [
      "5332295.709871416\n"
     ]
    }
   ],
   "source": [
    "Comfortable_2013 = Comfortable_2013.rename(columns={'KWH/hh (per half hour) ': 'KWH_hh'})\n",
    "Comfortable_2013 = pd.to_numeric(Comfortable_2013['KWH_hh'], errors='coerce')\n",
    "Comfortable_2013_sum = Comfortable_2013.sum()\n",
    "print(Comfortable_2013_sum)"
   ]
  },
  {
   "cell_type": "markdown",
   "metadata": {},
   "source": [
    "'Comfortable' households collectively used ~5,332,295.71 KW/hh energy in 2013. The only group left is the 'Adversity' group."
   ]
  },
  {
   "cell_type": "code",
   "execution_count": 24,
   "metadata": {},
   "outputs": [
    {
     "data": {
      "text/html": [
       "<div>\n",
       "<style>\n",
       "    .dataframe thead tr:only-child th {\n",
       "        text-align: right;\n",
       "    }\n",
       "\n",
       "    .dataframe thead th {\n",
       "        text-align: left;\n",
       "    }\n",
       "\n",
       "    .dataframe tbody tr th {\n",
       "        vertical-align: top;\n",
       "    }\n",
       "</style>\n",
       "<table border=\"1\" class=\"dataframe\">\n",
       "  <thead>\n",
       "    <tr style=\"text-align: right;\">\n",
       "      <th></th>\n",
       "      <th>LCLid</th>\n",
       "      <th>DateTime</th>\n",
       "      <th>KWH/hh (per half hour)</th>\n",
       "      <th>stdorToU</th>\n",
       "      <th>Acorn</th>\n",
       "      <th>Acorn_grouped</th>\n",
       "      <th>file</th>\n",
       "    </tr>\n",
       "  </thead>\n",
       "  <tbody>\n",
       "    <tr>\n",
       "      <th>39283</th>\n",
       "      <td>MAC000003</td>\n",
       "      <td>2013-01-01 00:00:00.0000000</td>\n",
       "      <td>1.966</td>\n",
       "      <td>Std</td>\n",
       "      <td>ACORN-P</td>\n",
       "      <td>Adversity</td>\n",
       "      <td>block_0</td>\n",
       "    </tr>\n",
       "    <tr>\n",
       "      <th>39284</th>\n",
       "      <td>MAC000003</td>\n",
       "      <td>2013-01-01 00:30:00.0000000</td>\n",
       "      <td>1.9220001</td>\n",
       "      <td>Std</td>\n",
       "      <td>ACORN-P</td>\n",
       "      <td>Adversity</td>\n",
       "      <td>block_0</td>\n",
       "    </tr>\n",
       "    <tr>\n",
       "      <th>39285</th>\n",
       "      <td>MAC000003</td>\n",
       "      <td>2013-01-01 01:00:00.0000000</td>\n",
       "      <td>1.808</td>\n",
       "      <td>Std</td>\n",
       "      <td>ACORN-P</td>\n",
       "      <td>Adversity</td>\n",
       "      <td>block_0</td>\n",
       "    </tr>\n",
       "    <tr>\n",
       "      <th>39286</th>\n",
       "      <td>MAC000003</td>\n",
       "      <td>2013-01-01 01:30:00.0000000</td>\n",
       "      <td>0.795</td>\n",
       "      <td>Std</td>\n",
       "      <td>ACORN-P</td>\n",
       "      <td>Adversity</td>\n",
       "      <td>block_0</td>\n",
       "    </tr>\n",
       "    <tr>\n",
       "      <th>39287</th>\n",
       "      <td>MAC000003</td>\n",
       "      <td>2013-01-01 02:00:00.0000000</td>\n",
       "      <td>1.235</td>\n",
       "      <td>Std</td>\n",
       "      <td>ACORN-P</td>\n",
       "      <td>Adversity</td>\n",
       "      <td>block_0</td>\n",
       "    </tr>\n",
       "  </tbody>\n",
       "</table>\n",
       "</div>"
      ],
      "text/plain": [
       "           LCLid                     DateTime KWH/hh (per half hour)   \\\n",
       "39283  MAC000003  2013-01-01 00:00:00.0000000                  1.966    \n",
       "39284  MAC000003  2013-01-01 00:30:00.0000000              1.9220001    \n",
       "39285  MAC000003  2013-01-01 01:00:00.0000000                  1.808    \n",
       "39286  MAC000003  2013-01-01 01:30:00.0000000                  0.795    \n",
       "39287  MAC000003  2013-01-01 02:00:00.0000000                  1.235    \n",
       "\n",
       "      stdorToU    Acorn Acorn_grouped     file  \n",
       "39283      Std  ACORN-P     Adversity  block_0  \n",
       "39284      Std  ACORN-P     Adversity  block_0  \n",
       "39285      Std  ACORN-P     Adversity  block_0  \n",
       "39286      Std  ACORN-P     Adversity  block_0  \n",
       "39287      Std  ACORN-P     Adversity  block_0  "
      ]
     },
     "execution_count": 24,
     "metadata": {},
     "output_type": "execute_result"
    }
   ],
   "source": [
    "Adversity_2013 = master_block_2013[master_block_2013.Acorn_grouped == 'Adversity']\n",
    "Adversity_2013.head()"
   ]
  },
  {
   "cell_type": "code",
   "execution_count": 25,
   "metadata": {},
   "outputs": [
    {
     "name": "stdout",
     "output_type": "stream",
     "text": [
      "5373100.987905672\n"
     ]
    }
   ],
   "source": [
    "Adversity_2013 = Adversity_2013.rename(columns={'KWH/hh (per half hour) ': 'KWH_hh'})\n",
    "Adversity_2013 = pd.to_numeric(Adversity_2013['KWH_hh'], errors='coerce')\n",
    "Adversity_2013_sum = Adversity_2013.sum()\n",
    "print(Adversity_2013_sum)"
   ]
  },
  {
   "cell_type": "code",
   "execution_count": 45,
   "metadata": {},
   "outputs": [
    {
     "data": {
      "text/plain": [
       "40805.27803425584"
      ]
     },
     "execution_count": 45,
     "metadata": {},
     "output_type": "execute_result"
    }
   ],
   "source": [
    "Adversity_2013_sum - Comfortable_2013_sum"
   ]
  },
  {
   "cell_type": "markdown",
   "metadata": {},
   "source": [
    "'Adversity' households collectively used ~5,373,100.99 kWh/hh energy in 2013. In a surprising discovery, the 'Adversity' socioeconomic group consumed more collective energy, approximately 40,805.28 kWh/hh, or 0.760% _more_ energy, than the 'comfortable' group."
   ]
  },
  {
   "cell_type": "code",
   "execution_count": 26,
   "metadata": {},
   "outputs": [
    {
     "data": {
      "text/plain": [
       "3377290.5408883924"
      ]
     },
     "execution_count": 26,
     "metadata": {},
     "output_type": "execute_result"
    }
   ],
   "source": [
    "Affluent_2013_sum - Comfortable_2013_sum"
   ]
  },
  {
   "cell_type": "markdown",
   "metadata": {},
   "source": [
    "'Affluent' households collectively consumed 3,377,290.54 kWh/hh, or 63.34% _more_ energy than 'Comfortable' households, and 'Affluent' households consumed 62.10% _more_ energy than their 'Adversity' household counterparts. A summary of these energy findings are tabulated below: \n",
    "\n",
    "Table 1: Energy Consumption by Socioeconomic Group\n",
    "\n",
    "| Socioeconomic Group  | Energy Consumption (kWh/hh) |\n",
    "| :-----------------   |:-------------------------   | \n",
    "| 'Affluent'           |    8,709,586.25             |  \n",
    "| 'Comfortable'        |    5,332,295.71             |  \n",
    "| 'Adversity'          |    5,373,100.99             |  \n",
    " \n",
    "Table 2: Comparison of Energy Consumption by Socioeconomic Group\n",
    " \n",
    "| Socioeconomic Group Comparison  |  Percent Increase |\n",
    "| :-----------------              |:----------------- | \n",
    "| 'Comfortable' to 'Affluent'     |    63.34%         |  \n",
    "| 'Comfortable' to 'Adversity'    |    0.760%         |  \n",
    "| 'Adversity' to 'Affluent'       |    62.10%         |  \n",
    " \n",
    "Now that the energy consumption of all three groups have been calculated, the Matplotlib library can be employed for data visualization: "
   ]
  },
  {
   "cell_type": "code",
   "execution_count": 32,
   "metadata": {},
   "outputs": [
    {
     "data": {
      "image/png": "[encoded data removed]",
      "text/plain": [
       "<matplotlib.figure.Figure at 0x13da67b00>"
      ]
     },
     "metadata": {},
     "output_type": "display_data"
    }
   ],
   "source": [
    "import matplotlib.pyplot as plt\n",
    "\n",
    "# establishes dictionaries for bar graph\n",
    "socio_numbers = {1: Affluent_2013_sum,2: Comfortable_2013_sum,3: Adversity_2013_sum}\n",
    "socio_descriptions = {'Affluent': Affluent_2013_sum,\n",
    "'Comfortable': Comfortable_2013_sum,'Adversity': Adversity_2013_sum}\n",
    "\n",
    "# bar graph w/ title, x and y axis labels\n",
    "plt.bar(list(socio_numbers.keys()),list(socio_numbers.values()),\n",
    "tick_label = (socio_descriptions.keys()))\n",
    "plt.title(\"Socioeconomic Energy Usage (2013)\")\n",
    "plt.ylabel('Energy (KWH/hh)')\n",
    "plt.xlabel('Socioeconomic Group')\n",
    "plt.show()"
   ]
  },
  {
   "cell_type": "markdown",
   "metadata": {},
   "source": [
    "'Affluent' households consumed the most amount of energy between the three socioeconomic groups in 2013, but 'Adversity' used more energy in comparison to the 'Comfortable' group, approximiately 0.76% more energy. Although greater energy consumption by the 'Affluent' group makes sense, as an inference can be made regarding their large estates and numerous appliances consuming significant amounts of energy, it is interesting to observe the 'Comfortable' and 'Adversity' groups consuming similar amounts of energy. Speculative analysis suggests both 'Comfortable' and 'Adversity' have similar number of appliances owned and similar heating/cooling habits. Although earning a lower income, the 'Adversity' group may prioritize heating/cooling bills just like the 'Comfortable' group. The 'Adversity' group may have to sacrifice luxuries such as the newest smartphone or dining out at restaurants, but at least they can live in their households with an adequate living temperature. \n",
    "\n",
    "#### Energy Consumption by Time (3 Hour Intervals)\n",
    "\n",
    "The next question is \"Amongst all socioeconomic groups (Affluent, Comfortable, Adversity), at what time throughout the day is energy consumption the highest?\" To answer this question efficiently, the master_block_2013 DataFrame will be subgrouped by 8 3 hour time intervals (12:00am, 3:00am, 6:00am, 9:00am, 12:00pm, 3:00pm, 6:00pm, 9:00pm). The data energy record measures the amount of energy consumed in the previous half hour. For example, a 3:00pm energy data record on a given day is actually the amount of energy consumed from 2:30pm to 3:00pm for that same day. 12:00am will be subgrouped first, with the time argument in 24 hour military format. "
   ]
  },
  {
   "cell_type": "code",
   "execution_count": 34,
   "metadata": {},
   "outputs": [
    {
     "data": {
      "text/html": [
       "<div>\n",
       "<style>\n",
       "    .dataframe thead tr:only-child th {\n",
       "        text-align: right;\n",
       "    }\n",
       "\n",
       "    .dataframe thead th {\n",
       "        text-align: left;\n",
       "    }\n",
       "\n",
       "    .dataframe tbody tr th {\n",
       "        vertical-align: top;\n",
       "    }\n",
       "</style>\n",
       "<table border=\"1\" class=\"dataframe\">\n",
       "  <thead>\n",
       "    <tr style=\"text-align: right;\">\n",
       "      <th></th>\n",
       "      <th>LCLid</th>\n",
       "      <th>DateTime</th>\n",
       "      <th>KWH/hh (per half hour)</th>\n",
       "      <th>stdorToU</th>\n",
       "      <th>Acorn</th>\n",
       "      <th>Acorn_grouped</th>\n",
       "      <th>file</th>\n",
       "    </tr>\n",
       "  </thead>\n",
       "  <tbody>\n",
       "    <tr>\n",
       "      <th>3837</th>\n",
       "      <td>MAC000002</td>\n",
       "      <td>2013-01-01 00:00:00.0000000</td>\n",
       "      <td>0.219</td>\n",
       "      <td>Std</td>\n",
       "      <td>ACORN-A</td>\n",
       "      <td>Affluent</td>\n",
       "      <td>block_0</td>\n",
       "    </tr>\n",
       "    <tr>\n",
       "      <th>3885</th>\n",
       "      <td>MAC000002</td>\n",
       "      <td>2013-01-02 00:00:00.0000000</td>\n",
       "      <td>0.253</td>\n",
       "      <td>Std</td>\n",
       "      <td>ACORN-A</td>\n",
       "      <td>Affluent</td>\n",
       "      <td>block_0</td>\n",
       "    </tr>\n",
       "    <tr>\n",
       "      <th>3933</th>\n",
       "      <td>MAC000002</td>\n",
       "      <td>2013-01-03 00:00:00.0000000</td>\n",
       "      <td>0.196</td>\n",
       "      <td>Std</td>\n",
       "      <td>ACORN-A</td>\n",
       "      <td>Affluent</td>\n",
       "      <td>block_0</td>\n",
       "    </tr>\n",
       "    <tr>\n",
       "      <th>3981</th>\n",
       "      <td>MAC000002</td>\n",
       "      <td>2013-01-04 00:00:00.0000000</td>\n",
       "      <td>0.257</td>\n",
       "      <td>Std</td>\n",
       "      <td>ACORN-A</td>\n",
       "      <td>Affluent</td>\n",
       "      <td>block_0</td>\n",
       "    </tr>\n",
       "    <tr>\n",
       "      <th>4029</th>\n",
       "      <td>MAC000002</td>\n",
       "      <td>2013-01-05 00:00:00.0000000</td>\n",
       "      <td>0.195</td>\n",
       "      <td>Std</td>\n",
       "      <td>ACORN-A</td>\n",
       "      <td>Affluent</td>\n",
       "      <td>block_0</td>\n",
       "    </tr>\n",
       "  </tbody>\n",
       "</table>\n",
       "</div>"
      ],
      "text/plain": [
       "          LCLid                     DateTime KWH/hh (per half hour)  stdorToU  \\\n",
       "3837  MAC000002  2013-01-01 00:00:00.0000000                  0.219       Std   \n",
       "3885  MAC000002  2013-01-02 00:00:00.0000000                  0.253       Std   \n",
       "3933  MAC000002  2013-01-03 00:00:00.0000000                  0.196       Std   \n",
       "3981  MAC000002  2013-01-04 00:00:00.0000000                  0.257       Std   \n",
       "4029  MAC000002  2013-01-05 00:00:00.0000000                  0.195       Std   \n",
       "\n",
       "        Acorn Acorn_grouped     file  \n",
       "3837  ACORN-A      Affluent  block_0  \n",
       "3885  ACORN-A      Affluent  block_0  \n",
       "3933  ACORN-A      Affluent  block_0  \n",
       "3981  ACORN-A      Affluent  block_0  \n",
       "4029  ACORN-A      Affluent  block_0  "
      ]
     },
     "execution_count": 34,
     "metadata": {},
     "output_type": "execute_result"
    }
   ],
   "source": [
    "zero_2013 = master_block_2013.DateTime.str.contains('00:00:00.0000000')\n",
    "zero_2013_final = master_block_2013[zero_2013]\n",
    "zero_2013_final.head()"
   ]
  },
  {
   "cell_type": "markdown",
   "metadata": {},
   "source": [
    "Similar to the socioeconomic DataFrames, the energy column needs to be renamed in order to call the .sum() function. Afterwards, the KWH_hh column is changed to type float, then added together. \n",
    "<br>\n",
    "12:00am (Midnight):"
   ]
  },
  {
   "cell_type": "code",
   "execution_count": 36,
   "metadata": {},
   "outputs": [
    {
     "name": "stdout",
     "output_type": "stream",
     "text": [
      "358132.7710013757\n"
     ]
    }
   ],
   "source": [
    "zero_2013_final = zero_2013_final.rename(columns={'KWH/hh (per half hour) ': 'KWH_hh'})\n",
    "zero_2013_KWH = pd.to_numeric(zero_2013_final['KWH_hh'], errors='coerce')\n",
    "zero_2013_sum = zero_2013_KWH.sum()\n",
    "print(zero_2013_sum)"
   ]
  },
  {
   "cell_type": "markdown",
   "metadata": {},
   "source": [
    "So a total of 358,132.77 kWh/hh of total energy was consumed across all socioeconomic households between 11:30pm and 12:00am the previous day during 2013. <br> 3:00am is the next time point: "
   ]
  },
  {
   "cell_type": "code",
   "execution_count": 37,
   "metadata": {},
   "outputs": [
    {
     "name": "stdout",
     "output_type": "stream",
     "text": [
      "224968.10501195554\n"
     ]
    }
   ],
   "source": [
    "threeAM_2013 = master_block_2013.DateTime.str.contains('03:00:00.0000000')\n",
    "threeAM_2013_final = master_block_2013[threeAM_2013]\n",
    "threeAM_2013_final = threeAM_2013_final.rename(columns={'KWH/hh (per half hour) ': 'KWH_hh'})\n",
    "\n",
    "threeAM_2013_KWH = pd.to_numeric(threeAM_2013_final['KWH_hh'], errors='coerce')\n",
    "threeAM_2013_sum = threeAM_2013_KWH.sum()\n",
    "print(threeAM_2013_sum)"
   ]
  },
  {
   "cell_type": "markdown",
   "metadata": {},
   "source": [
    "6:00am: "
   ]
  },
  {
   "cell_type": "code",
   "execution_count": 38,
   "metadata": {},
   "outputs": [
    {
     "name": "stdout",
     "output_type": "stream",
     "text": [
      "285415.60099193203\n"
     ]
    }
   ],
   "source": [
    "sixAM_2013 = master_block_2013.DateTime.str.contains('06:00:00.0000000')\n",
    "sixAM_2013_final = master_block_2013[sixAM_2013]\n",
    "sixAM_2013_final = sixAM_2013_final.rename(columns={'KWH/hh (per half hour) ': 'KWH_hh'})\n",
    "\n",
    "sixAM_2013_KWH = pd.to_numeric(sixAM_2013_final['KWH_hh'], errors='coerce')\n",
    "sixAM_2013_sum = sixAM_2013_KWH.sum()\n",
    "print(sixAM_2013_sum)"
   ]
  },
  {
   "cell_type": "markdown",
   "metadata": {},
   "source": [
    "9:00am: "
   ]
  },
  {
   "cell_type": "code",
   "execution_count": 39,
   "metadata": {},
   "outputs": [
    {
     "name": "stdout",
     "output_type": "stream",
     "text": [
      "418533.03798457445\n"
     ]
    }
   ],
   "source": [
    "nineAM_2013 = master_block_2013.DateTime.str.contains('09:00:00.0000000')\n",
    "nineAM_2013_final = master_block_2013[nineAM_2013]\n",
    "nineAM_2013_final = nineAM_2013_final.rename(columns={'KWH/hh (per half hour) ': 'KWH_hh'})\n",
    "\n",
    "nineAM_2013_KWH = pd.to_numeric(nineAM_2013_final['KWH_hh'], errors='coerce')\n",
    "nineAM_2013_sum = nineAM_2013_KWH.sum()\n",
    "print(nineAM_2013_sum)"
   ]
  },
  {
   "cell_type": "markdown",
   "metadata": {},
   "source": [
    "12:00pm:"
   ]
  },
  {
   "cell_type": "code",
   "execution_count": 40,
   "metadata": {},
   "outputs": [
    {
     "name": "stdout",
     "output_type": "stream",
     "text": [
      "418149.7319919621\n"
     ]
    }
   ],
   "source": [
    "twelvePM_2013 = master_block_2013.DateTime.str.contains('12:00:00.0000000')\n",
    "twelvePM_2013_final = master_block_2013[twelvePM_2013]\n",
    "twelvePM_2013_final = twelvePM_2013_final.rename(columns={'KWH/hh (per half hour) ': 'KWH_hh'})\n",
    "\n",
    "twelvePM_2013_KWH = pd.to_numeric(twelvePM_2013_final['KWH_hh'], errors='coerce')\n",
    "twelvePM_2013_sum = twelvePM_2013_KWH.sum()\n",
    "print(twelvePM_2013_sum)"
   ]
  },
  {
   "cell_type": "markdown",
   "metadata": {},
   "source": [
    "3:00pm: "
   ]
  },
  {
   "cell_type": "code",
   "execution_count": 41,
   "metadata": {},
   "outputs": [
    {
     "name": "stdout",
     "output_type": "stream",
     "text": [
      "411178.8119727835\n"
     ]
    }
   ],
   "source": [
    "threePM_2013 = master_block_2013.DateTime.str.contains('15:00:00.0000000')\n",
    "threePM_2013_final = master_block_2013[threePM_2013]\n",
    "threePM_2013_final = threePM_2013_final.rename(columns={'KWH/hh (per half hour) ': 'KWH_hh'})\n",
    "\n",
    "threePM_2013_KWH = pd.to_numeric(threePM_2013_final['KWH_hh'], errors='coerce')\n",
    "threePM_2013_sum = threePM_2013_KWH.sum()\n",
    "print(threePM_2013_sum)"
   ]
  },
  {
   "cell_type": "markdown",
   "metadata": {},
   "source": [
    "6:00pm:"
   ]
  },
  {
   "cell_type": "code",
   "execution_count": 42,
   "metadata": {},
   "outputs": [
    {
     "name": "stdout",
     "output_type": "stream",
     "text": [
      "585670.8449864003\n"
     ]
    }
   ],
   "source": [
    "sixPM_2013 = master_block_2013.DateTime.str.contains('18:00:00.0000000')\n",
    "sixPM_2013_final = master_block_2013[sixPM_2013]\n",
    "sixPM_2013_final = sixPM_2013_final.rename(columns={'KWH/hh (per half hour) ': 'KWH_hh'})\n",
    "\n",
    "sixPM_2013_KWH = pd.to_numeric(sixPM_2013_final['KWH_hh'], errors='coerce')\n",
    "sixPM_2013_sum = sixPM_2013_KWH.sum()\n",
    "print(sixPM_2013_sum)"
   ]
  },
  {
   "cell_type": "markdown",
   "metadata": {},
   "source": [
    "9:00pm: "
   ]
  },
  {
   "cell_type": "code",
   "execution_count": 43,
   "metadata": {},
   "outputs": [
    {
     "name": "stdout",
     "output_type": "stream",
     "text": [
      "579272.6919890654\n"
     ]
    }
   ],
   "source": [
    "ninePM_2013 = master_block_2013.DateTime.str.contains('21:00:00.0000000')\n",
    "ninePM_2013_final = master_block_2013[ninePM_2013]\n",
    "ninePM_2013_final = ninePM_2013_final.rename(columns={'KWH/hh (per half hour) ': 'KWH_hh'})\n",
    "\n",
    "ninePM_2013_KWH = pd.to_numeric(ninePM_2013_final['KWH_hh'], errors='coerce')\n",
    "ninePM_2013_sum = ninePM_2013_KWH.sum()\n",
    "print(ninePM_2013_sum)"
   ]
  },
  {
   "cell_type": "markdown",
   "metadata": {},
   "source": [
    "Now these values can be visualized using MATPLOTLIB: "
   ]
  },
  {
   "cell_type": "code",
   "execution_count": 44,
   "metadata": {
    "collapsed": true
   },
   "outputs": [],
   "source": [
    "# establishes dictionaries for bar graph\n",
    "hour_numbers = {1: zero_2013_sum, 2: threeAM_2013_sum, 3: sixAM_2013_sum, \n",
    "4:nineAM_2013_sum, 5:twelvePM_2013_sum, 6:threePM_2013_sum, \n",
    "7: sixPM_2013_sum, 8: ninePM_2013_sum}\n",
    "\n",
    "hour_descriptions = {'12:00AM': zero_2013_sum,'3:00AM': threeAM_2013_sum,\n",
    "'6:00AM': sixAM_2013_sum, '9:00AM':nineAM_2013_sum, '12:00PM':twelvePM_2013_sum,\n",
    "'3:00PM':threePM_2013_sum, '6:00PM':sixPM_2013_sum,'9:00PM':ninePM_2013_sum}"
   ]
  },
  {
   "cell_type": "code",
   "execution_count": 45,
   "metadata": {},
   "outputs": [
    {
     "data": {
      "image/png": "[encoded data removed]",
      "text/plain": [
       "<matplotlib.figure.Figure at 0x13ec870b8>"
      ]
     },
     "metadata": {},
     "output_type": "display_data"
    }
   ],
   "source": [
    "# bar graph w/ title, x and y axis labels\n",
    "plt.bar(list(hour_numbers.keys()),list(hour_numbers.values()))\n",
    "plt.title(\"Energy Use by Hour (2013)\")\n",
    "plt.ylabel('Energy (KWH/hh)')\n",
    "plt.xlabel('Measured Time Points')\n",
    "\n",
    "# rotates x axis ticks 45 degrees\n",
    "plt.xticks(list(hour_numbers.keys()), hour_descriptions.keys(), rotation='45')\n",
    "plt.show()\n"
   ]
  },
  {
   "cell_type": "markdown",
   "metadata": {},
   "source": [
    "Table 3: Energy Consumption by Time of Day\n",
    "\n",
    "| Time              |Energy Consumption (kWh/hh) |\n",
    "|:----------------- |:-------------------------- | \n",
    "| 12:00am           |    358,132.77              |  \n",
    "| 3:00am            |    224,968.11              |  \n",
    "| 6:00am            |    285,415.60              |\n",
    "| 9:00am            |    418,533.04              |\n",
    "| 12:00pm           |    418,149.73              |\n",
    "| 3:00pm            |    411,178.81              |\n",
    "| 6:00pm            |    585,670.84              |\n",
    "| 9:00pm            |    579,272.69              |"
   ]
  },
  {
   "cell_type": "markdown",
   "metadata": {},
   "source": [
    "This data suggests out of the 8 time points measured and regardless of socioeconomic level, households consumed the most energy at 6:00pm, and consumed the least energy at 3:00am. This data suggests a majority of households are dormant by 3:00am, while 6:00pm the most energy is consumed, likely attributed to majority of people home from work, therefore a significant amount of appliances such as heating and lighting fixtures may be active during this time. The percent increase comparing 3:00am energy consumption to 6:00pm energy consumption is approximately 160.34%."
   ]
  },
  {
   "cell_type": "markdown",
   "metadata": {},
   "source": [
    "#### Energy Consumption by UK Holiday\n",
    "\n",
    "According to the United Kingdom's official website, Gov.UK, there are 8 official banking holidays observed in the United Kingdom. The 8 holidays and their specific date from 2013 are the following days [[4](https://www.gov.uk/bank-holidays)]: "
   ]
  },
  {
   "cell_type": "markdown",
   "metadata": {},
   "source": [
    "Table 4: United Kingdom Banking Holidays Dates for Year 2013\n",
    "\n",
    "| Banking Holiday 2013 | Date (Month/Day) |\n",
    "|:-----------------    |:-------------    | \n",
    "| New Years Day        | January 1        |  \n",
    "| Good Friday          | March 29         |  \n",
    "| Easter Monday        | April 1          |  \n",
    "| Early May Holiday    | May 6            |  \n",
    "| Spring Holiday       | May 27           |  \n",
    "| Summer Holiday       | August 26        |  \n",
    "| Christmas Day        | December 25      | \n",
    "| Boxing Day           | December 26      | "
   ]
  },
  {
   "cell_type": "markdown",
   "metadata": {},
   "source": [
    "The question is out of the 8 official banking holidays in the UK, which holiday did households consume the most energy? The master DataFrame for 2013, master_block_2013 will be subgrouped by day, then the energy consumption column will be summed to reach a total energy consumption value for that banking holiday. "
   ]
  },
  {
   "cell_type": "raw",
   "metadata": {},
   "source": [
    "New Year's Day:"
   ]
  },
  {
   "cell_type": "code",
   "execution_count": 75,
   "metadata": {},
   "outputs": [
    {
     "name": "stdout",
     "output_type": "stream",
     "text": [
      "65269.36800129973\n"
     ]
    }
   ],
   "source": [
    "NYD_2013 = master_block_2013.DateTime.str.contains('2013-01-01')\n",
    "NYD_2013 = master_block_2013[NYD_2013]\n",
    "NYD_2013_final = NYD_2013.rename(columns={'KWH/hh (per half hour) ': 'KWH_hh'})\n",
    "NYD_2013_final = pd.to_numeric(NYD_2013_final['KWH_hh'], errors='coerce')\n",
    "\n",
    "NYD_2013_sum = NYD_2013_final.sum()\n",
    "print(NYD_2013_sum)"
   ]
  },
  {
   "cell_type": "markdown",
   "metadata": {},
   "source": [
    "Good Friday: "
   ]
  },
  {
   "cell_type": "code",
   "execution_count": 84,
   "metadata": {},
   "outputs": [
    {
     "name": "stdout",
     "output_type": "stream",
     "text": [
      "66136.13000569903\n"
     ]
    }
   ],
   "source": [
    "GF_2013 = master_block_2013.DateTime.str.contains('2013-03-29')\n",
    "GF_2013 = master_block_2013[GF_2013]\n",
    "GF_2013_final = GF_2013.rename(columns={'KWH/hh (per half hour) ': 'KWH_hh'})\n",
    "GF_2013_final = pd.to_numeric(GF_2013_final['KWH_hh'], errors='coerce')\n",
    "\n",
    "GF_2013_sum = GF_2013_final.sum()\n",
    "print(GF_2013_sum)"
   ]
  },
  {
   "cell_type": "markdown",
   "metadata": {},
   "source": [
    "Easter Monday: "
   ]
  },
  {
   "cell_type": "code",
   "execution_count": 85,
   "metadata": {},
   "outputs": [
    {
     "name": "stdout",
     "output_type": "stream",
     "text": [
      "64764.99600129813\n"
     ]
    }
   ],
   "source": [
    "EM_2013 = master_block_2013.DateTime.str.contains('2013-04-01')\n",
    "EM_2013 = master_block_2013[EM_2013]\n",
    "EM_2013_final = EM_2013.rename(columns={'KWH/hh (per half hour) ': 'KWH_hh'})\n",
    "EM_2013_final = pd.to_numeric(EM_2013_final['KWH_hh'], errors='coerce')\n",
    "\n",
    "EM_2013_sum = EM_2013_final.sum()\n",
    "print(EM_2013_sum)"
   ]
  },
  {
   "cell_type": "markdown",
   "metadata": {},
   "source": [
    "Early May Banking Holiday:"
   ]
  },
  {
   "cell_type": "code",
   "execution_count": 86,
   "metadata": {},
   "outputs": [
    {
     "name": "stdout",
     "output_type": "stream",
     "text": [
      "46434.92499700058\n"
     ]
    }
   ],
   "source": [
    "EMBH_2013 = master_block_2013.DateTime.str.contains('2013-05-06')\n",
    "EMBH_2013 = master_block_2013[EMBH_2013]\n",
    "EMBH_2013_final = EMBH_2013.rename(columns={'KWH/hh (per half hour) ': 'KWH_hh'})\n",
    "EMBH_2013_final = pd.to_numeric(EMBH_2013_final['KWH_hh'], errors='coerce')\n",
    "\n",
    "EMBH_2013_sum = EMBH_2013_final.sum()\n",
    "print(EMBH_2013_sum)"
   ]
  },
  {
   "cell_type": "markdown",
   "metadata": {},
   "source": [
    "Spring Bank Holiday: "
   ]
  },
  {
   "cell_type": "code",
   "execution_count": 89,
   "metadata": {},
   "outputs": [
    {
     "name": "stdout",
     "output_type": "stream",
     "text": [
      "45846.575996699044\n"
     ]
    }
   ],
   "source": [
    "SBH_2013 = master_block_2013.DateTime.str.contains('2013-05-27')\n",
    "SBH_2013 = master_block_2013[SBH_2013]\n",
    "SBH_2013_final = SBH_2013.rename(columns={'KWH/hh (per half hour) ': 'KWH_hh'})\n",
    "SBH_2013_final = pd.to_numeric(SBH_2013_final['KWH_hh'], errors='coerce')\n",
    "\n",
    "SBH_2013_sum = SBH_2013_final.sum()\n",
    "print(SBH_2013_sum)"
   ]
  },
  {
   "cell_type": "markdown",
   "metadata": {},
   "source": [
    "Summer Bank Holiday:"
   ]
  },
  {
   "cell_type": "code",
   "execution_count": 88,
   "metadata": {},
   "outputs": [
    {
     "name": "stdout",
     "output_type": "stream",
     "text": [
      "42010.849998600825\n"
     ]
    }
   ],
   "source": [
    "SuBH_2013 = master_block_2013.DateTime.str.contains('2013-08-26')\n",
    "SuBH_2013 = master_block_2013[SuBH_2013]\n",
    "SuBH_2013_final = SuBH_2013.rename(columns={'KWH/hh (per half hour) ': 'KWH_hh'})\n",
    "SuBH_2013_final = pd.to_numeric(SuBH_2013_final['KWH_hh'], errors='coerce')\n",
    "\n",
    "SuBH_2013_sum = SuBH_2013_final.sum()\n",
    "print(SuBH_2013_sum)"
   ]
  },
  {
   "cell_type": "markdown",
   "metadata": {},
   "source": [
    "Christmas Day: "
   ]
  },
  {
   "cell_type": "code",
   "execution_count": 90,
   "metadata": {},
   "outputs": [
    {
     "name": "stdout",
     "output_type": "stream",
     "text": [
      "64006.14799119852\n"
     ]
    }
   ],
   "source": [
    "CD_2013 = master_block_2013.DateTime.str.contains('2013-12-25')\n",
    "CD_2013 = master_block_2013[CD_2013]\n",
    "CD_2013_final = CD_2013.rename(columns={'KWH/hh (per half hour) ': 'KWH_hh'})\n",
    "CD_2013_final = pd.to_numeric(CD_2013_final['KWH_hh'], errors='coerce')\n",
    "\n",
    "CD_2013_sum = CD_2013_final.sum()\n",
    "print(CD_2013_sum)"
   ]
  },
  {
   "cell_type": "markdown",
   "metadata": {},
   "source": [
    "Boxing Day: "
   ]
  },
  {
   "cell_type": "code",
   "execution_count": 92,
   "metadata": {},
   "outputs": [
    {
     "name": "stdout",
     "output_type": "stream",
     "text": [
      "59479.84600289803\n"
     ]
    }
   ],
   "source": [
    "BD_2013 = master_block_2013.DateTime.str.contains('2013-12-26')\n",
    "BD_2013 = master_block_2013[BD_2013]\n",
    "BD_2013_final = BD_2013.rename(columns={'KWH/hh (per half hour) ': 'KWH_hh'})\n",
    "BD_2013_final = pd.to_numeric(BD_2013_final['KWH_hh'], errors='coerce')\n",
    "\n",
    "BD_2013_sum = BD_2013_final.sum()\n",
    "print(BD_2013_sum)"
   ]
  },
  {
   "cell_type": "markdown",
   "metadata": {},
   "source": [
    "Now that each value is calcuated, data visualization can be employed using Matplotlib: "
   ]
  },
  {
   "cell_type": "code",
   "execution_count": 140,
   "metadata": {
    "collapsed": true
   },
   "outputs": [],
   "source": [
    "\n",
    "# establishes dictionaries for bar graph\n",
    "holiday_numbers = {1: NYD_2013_sum, 2: GF_2013_sum, 3: EM_2013_sum, \n",
    "4:EMBH_2013_sum, 5:SBH_2013_sum, 6:SuBH_2013_sum, 7: CD_2013_sum, \n",
    "8: BD_2013_sum}\n",
    "\n",
    "holiday_descriptions = {'':\"\",'New Years Day': NYD_2013_sum,'Good Friday': \n",
    "GF_2013_sum,'Easter Monday': EM_2013_sum, 'Early May Bank Holiday':EMBH_2013_sum, \n",
    "'Spring Bank Holiday':SBH_2013_sum,'Summer Bank Holiday':SuBH_2013_sum, \n",
    "'Christmas Day':CD_2013_sum,'Boxing Day':BD_2013_sum}"
   ]
  },
  {
   "cell_type": "code",
   "execution_count": 134,
   "metadata": {},
   "outputs": [
    {
     "data": {
      "image/png": "[encoded data removed]",
      "text/plain": [
       "<matplotlib.figure.Figure at 0x1439b1a90>"
      ]
     },
     "metadata": {},
     "output_type": "display_data"
    }
   ],
   "source": [
    "fig, ax = plt.subplots() \n",
    "\n",
    "# horizontal bar graph w/ title and x axis label \n",
    "plt.barh(list(holiday_numbers.keys()),list(holiday_numbers.values()))\n",
    "plt.title(\"Energy Consumption by Banking Holiday (2013)\")\n",
    "plt.xlabel('Energy (KWH/hh)')\n",
    "\n",
    "# y axis tick labels, flips order of holidays so \n",
    "# holidays progress January - December from top to bottom\n",
    "ax.set_yticklabels(holiday_descriptions.keys())\n",
    "ax.invert_yaxis()\n",
    "plt.show()"
   ]
  },
  {
   "cell_type": "markdown",
   "metadata": {},
   "source": [
    "The holiday that consumed the most amount of energy was Good Friday on March 29th, 2013. The holiday that consumed the least amount of energy was the Summer Bank Holiday on August 26th, 2013. Comparing the Good Friday energy consumption value with the Summer Holiday value, there is a 36.48% decrease in energy consumption. This data suggests more energy is used during the colder months of winter and early spring compared to the mild temperatures of late spring and summer. This inference would makes sense if more energy is consumed by houses for heat production in the winter in the United Kingdom compared to air conditioning in the summer. An in-depth analysis of the weather on these days should be performed to observe if any extreme temperatures resulted in high energy consumption for households. \n",
    "\n",
    "The weather API DarkSky has a time machine feature to furnish weather data for any given day: The low and high temperatures (fahrenheit) for Westminister, England banking holidays compared to energy consumption in 2013 are the following [[4]( \n",
    "https://www.gov.uk/bank-holidays)]\n",
    "\n",
    "Table 5: Weather and Energy Consumption for United Kingdom Banking Holidays 2013\n",
    "\n",
    "| Banking Holiday 2013 | Date (Month/Day |Energy Consumption (kWh/hh)| Temperature (F): Low - High  |\n",
    "| :-----------------   |:--------------- |:------------------------- |:------------------------     |\n",
    "| New Years Day        | January 1       |  65,269.37                | 38 - 46                      |\n",
    "| Good Friday          | March 29        |  66,136.13                | 31 - 42                      |\n",
    "| Easter Monday        | April 1         |  64,765.00                | 34 - 43                      | \n",
    "| Early May Holiday    | May 6           |  46,434.92                | 51 - 70                      |\n",
    "| Spring Holiday       | May 27          |  45,846.58                | 43 - 63                      |\n",
    "| Summer Holiday       | August 26       |  42,010.86                | 62 - 76                      |\n",
    "| Christmas Day        | December 25     |  64,006.15                | 39 - 45                      |\n",
    "| Boxing Day           | December 26     |  59,479.85                | 37 - 46                      |\n",
    "\n",
    "According to this temperature data, the holidays during the warmer months (Early May, Spring, and Summer Bank Holiday) do not experience sweltering temperatures that warrant turning on air conditioning. In fact, these temperatures are ideal to the extent little heat is needed or no appliance useage is necessary. This inference rationalizes lower energy consumption for these three banking holidays compared to the winter and early spring banking holidays. "
   ]
  },
  {
   "cell_type": "markdown",
   "metadata": {},
   "source": [
    "## Conclusion:\n",
    "The interpretation of the results about the trial smart meter data in 2013 in context of energy consumption, socioeconomic demographic, and date/time were analyzed and tabulated for UK government assessment. Quantitative comparison by percent increase or decrease and data visualization hopefully revealed telling energy consumption trends that sheds light on household habits in London, which can be scaled for the entire UK once large scale implementation of the 'smart meters' is complete.\n",
    "\n",
    "There were several limitations that need to be taken into consideration upon assessing the story that this data conveys. This study only analyzed the calender year 2013. A stronger study would repeat these calculations for 2012 as well, since this is the only other full calender year this dataset provides, to see if these trends reoccur. Furthermore, this study would be stronger if the more specific socioeconomic ACORN categories (Categories A - Q) were analyzed rather than the broad socioeconomic groupings ('Affluent', 'Comfortable', 'Adversity'). Using solely the socioeconomic groupings may have obscured a more specific data trend hidden in the ACORN categories. These two limitations will be reviewed upon further study in the future.\n",
    "\n",
    "## References: \n",
    "1. Status and Trends in the U.S. Voluntary Green Power Market. (n.d.). Retrieved December 05, 2017, from                  https://energy.gov/eere/analysis/downloads/status-and-trends-us-voluntary-green-power-market\n",
    "\n",
    "2. ACORN. (n.d.). Retrieved December 05, 2017, from https://acorn.caci.co.uk/\n",
    "\n",
    "3. Dark Sky Weather API. (n.d.). Retrieved December 05, 2017, from https://darksky.net/\n",
    "\n",
    "4. UK bank holidays. (n.d.). Retrieved December 05, 2017, from https://www.gov.uk/bank-holidays\n",
    "\n",
    "## Appendix B: \n",
    "The data munged and analyzed for this study can be found on the Data Science and Machine Learning educational website [Kaggle](https://www.kaggle.com/jeanmidev/smart-meters-in-london/data). \n"
   ]
  }
 ],
 "metadata": {
  "kernelspec": {
   "display_name": "Python 3",
   "language": "python",
   "name": "python3"
  },
  "language_info": {
   "codemirror_mode": {
    "name": "ipython",
    "version": 3
   },
   "file_extension": ".py",
   "mimetype": "text/x-python",
   "name": "python",
   "nbconvert_exporter": "python",
   "pygments_lexer": "ipython3",
   "version": "3.6.3"
  }
 },
 "nbformat": 4,
 "nbformat_minor": 2
}
